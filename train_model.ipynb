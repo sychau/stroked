{
 "cells": [
  {
   "cell_type": "code",
   "execution_count": 19,
   "id": "3ad2719d-02a5-4afe-b5e9-9aa74b61a826",
   "metadata": {},
   "outputs": [],
   "source": [
    "# http://dlib.net/face_landmark_detection.py.html\n",
    "import os\n",
    "import glob\n",
    "import dlib\n",
    "import matplotlib.pyplot as plt\n",
    "import tensorflow as tf\n",
    "from tensorflow.keras.layers import * \n",
    "import numpy as np\n",
    "from face_feature_v2 import Feature"
   ]
  },
  {
   "cell_type": "code",
   "execution_count": 20,
   "id": "febc76cd-fb82-4261-8583-19fa4a268695",
   "metadata": {},
   "outputs": [],
   "source": [
    "# 5 face landmarks model is used to crop and align faces\n",
    "# 68 face landamarks model is used to detect precise landmark points on faces\n",
    "predictor_fl5_path = \"face_detection_model/shape_predictor_5_face_landmarks.dat\"\n",
    "predictor_fl68_path = \"face_detection_model/shape_predictor_68_face_landmarks.dat\"\n",
    "\n",
    "stroke_folder_path = \"Strokefaces/stroke\"\n",
    "non_stroke_folder_path = \"Strokefaces/non_stroke\"\n",
    "\n",
    "# Load all the models we need: a detector to find the faces, a shape predictor\n",
    "# to find face landmarks so we can precisely localize the face\n",
    "fl5_detector = dlib.get_frontal_face_detector()\n",
    "fl5_sp = dlib.shape_predictor(predictor_fl5_path)\n",
    "\n",
    "fl68_detector = dlib.get_frontal_face_detector()\n",
    "fl68_sp = dlib.shape_predictor(predictor_fl68_path)"
   ]
  },
  {
   "cell_type": "code",
   "execution_count": 21,
   "id": "0534d317-17cb-4f5d-9136-446ddd253347",
   "metadata": {},
   "outputs": [],
   "source": [
    "non_stroke_labeled_paths = [(f, False) for f in glob.glob(os.path.join(non_stroke_folder_path, \"*.jpg\"))]\n",
    "stroke_labeled_paths = [(f, True) for f in glob.glob(os.path.join(stroke_folder_path, \"*.jpg\"))]\n",
    "\n",
    "labeled_paths = stroke_labeled_paths + non_stroke_labeled_paths\n",
    "\n",
    "non_stroke_features = []\n",
    "stroke_features = []"
   ]
  },
  {
   "cell_type": "code",
   "execution_count": 22,
   "id": "3ecc4a52-4efd-4717-915a-6f8816d2f213",
   "metadata": {},
   "outputs": [
    {
     "name": "stdout",
     "output_type": "stream",
     "text": [
      "Finish feature extration\n"
     ]
    }
   ],
   "source": [
    "for f, is_stroke in labeled_paths:\n",
    "    # Load the image using Dlib\n",
    "    img = dlib.load_rgb_image(f)\n",
    "    \n",
    "    # Ask the detector to find the bounding boxes of each face. The 1 in the\n",
    "    # second argument indicates that we should upsample the image 1 time. This\n",
    "    # will make everything bigger and allow us to detect more faces.\n",
    "    fl5_dets = fl5_detector(img, 1)\n",
    "\n",
    "    num_faces = len(fl5_dets)\n",
    "    if num_faces == 0:\n",
    "        print(\"Sorry, there were no faces found in '{}'\".format(f))\n",
    "        continue\n",
    "\n",
    "    # Find the 5 face landmarks we need to do the alignment.\n",
    "    faces = dlib.full_object_detections()\n",
    "    for detection in fl5_dets:\n",
    "        faces.append(fl5_sp(img, detection))\n",
    "\n",
    "    # Get aligned and cropped face\n",
    "    aligned_img = dlib.get_face_chip(img, faces[0])\n",
    "\n",
    "    fl68_dets = fl68_detector(aligned_img, 2)\n",
    "\n",
    "    for k, d in enumerate(fl68_dets):\n",
    "        # Get the landmarks/parts for the face in box d.\n",
    "        shape = fl68_sp(aligned_img, d)\n",
    "        ft = Feature(shape.parts())\n",
    "        if is_stroke == 1:\n",
    "            stroke_features.append(ft.feature.copy())\n",
    "        else:\n",
    "            non_stroke_features.append(ft.feature.copy())\n",
    "\n",
    "stroke_features = np.array(stroke_features)\n",
    "non_stroke_features = np.array(non_stroke_features)\n",
    "print(\"Finish feature extration\")"
   ]
  },
  {
   "cell_type": "code",
   "execution_count": 23,
   "id": "5e35e3f3-7d46-4b39-9df5-6c817d624f3c",
   "metadata": {},
   "outputs": [
    {
     "name": "stdout",
     "output_type": "stream",
     "text": [
      "62\n",
      "89\n"
     ]
    }
   ],
   "source": [
    "print(len(stroke_features))\n",
    "print(len(non_stroke_features))"
   ]
  },
  {
   "cell_type": "code",
   "execution_count": 24,
   "id": "9e098856-b55a-4ed6-ab4a-42ab1d7a1856",
   "metadata": {},
   "outputs": [],
   "source": [
    "# 1 = stroke 0 = non_stroke\n",
    "stroke_labels = np.array([1] * len(stroke_features))\n",
    "# stroke_dataset = tf.data.Dataset.from_tensor_slices((stroke_features, stroke_labels))\n",
    "\n",
    "non_stroke_labels = np.array([0] * len(non_stroke_features))\n",
    "# non_stroke_dataset = tf.data.Dataset.from_tensor_slices((non_stroke_features, non_stroke_labels))\n",
    "\n",
    "all_features = np.concatenate((stroke_features, non_stroke_features))\n",
    "all_labels = np.concatenate((stroke_labels, non_stroke_labels))\n",
    "\n",
    "import random\n",
    "zipped_feature_labels = list(zip(all_features, all_labels))\n",
    "random.shuffle(zipped_feature_labels)\n",
    "all_features, all_labels = zip(*(zipped_feature_labels))"
   ]
  },
  {
   "cell_type": "code",
   "execution_count": 65,
   "id": "8eb0852a-3f87-4811-aebb-4709d4f23e7d",
   "metadata": {},
   "outputs": [
    {
     "name": "stdout",
     "output_type": "stream",
     "text": [
      "0 Fold : TN:14 FN:0 TP:8 FP:0 Accuracy:1.0\n",
      "1 Fold : TN:13 FN:1 TP:7 FP:1 Accuracy:0.9090909090909091\n",
      "2 Fold : TN:10 FN:2 TP:10 FP:0 Accuracy:0.9090909090909091\n",
      "3 Fold : TN:13 FN:0 TP:9 FP:0 Accuracy:1.0\n",
      "4 Fold : TN:11 FN:2 TP:7 FP:1 Accuracy:0.8571428571428571\n",
      "5 Fold : TN:14 FN:2 TP:5 FP:0 Accuracy:0.9047619047619048\n",
      "6 Fold : TN:12 FN:1 TP:8 FP:0 Accuracy:0.9523809523809523\n",
      "Average: 0.9332096474953618\n"
     ]
    }
   ],
   "source": [
    "from sklearn import svm\n",
    "from sklearn.model_selection import cross_val_score, cross_val_predict, KFold\n",
    "from sklearn.metrics import accuracy_score, confusion_matrix\n",
    "model = svm.SVC()\n",
    "nFold = 7\n",
    "\n",
    "kf = KFold(n_splits=nFold, shuffle=False, random_state=None)\n",
    "\n",
    "ACC_SUM = 0\n",
    "for i, (train_indices, test_indices) in enumerate(kf.split(all_features)):\n",
    "    train_features = [all_features[i] for i in train_indices]\n",
    "    test_features = [all_features[i] for i in test_indices]\n",
    "    train_labels = [all_labels[i] for i in train_indices]\n",
    "    test_labels = [all_labels[i] for i in test_indices]\n",
    "\n",
    "    model.fit(train_features, train_labels)\n",
    "    \n",
    "    predicted = model.predict(test_features)\n",
    "\n",
    "    ac = accuracy_score(predicted, test_labels)\n",
    "    cm = confusion_matrix(test_labels, predicted)\n",
    "\n",
    "    # 0 non-stroke 1 stroke\n",
    "    TN = cm[0][0]\n",
    "    FN = cm[1][0]\n",
    "    TP = cm[1][1]\n",
    "    FP = cm[0][1]\n",
    "    \n",
    "    # Sensitivity, hit rate, recall, or true positive rate\n",
    "    TPR = TP/(TP+FN)\n",
    "    # Specificity or true negative rate\n",
    "    TNR = TN/(TN+FP) \n",
    "    # Precision or positive predictive value\n",
    "    PPV = TP/(TP+FP)\n",
    "    # Negative predictive value\n",
    "    NPV = TN/(TN+FN)\n",
    "    # Fall out or false positive rate\n",
    "    FPR = FP/(FP+TN)\n",
    "    # False negative rate\n",
    "    FNR = FN/(TP+FN)\n",
    "    \n",
    "    # Overall accuracy\n",
    "    ACC = (TP+TN)/(TP+FP+FN+TN)\n",
    "    ACC_SUM += ACC\n",
    "    print(f\"{i} Fold : TN:{TN} FN:{FN} TP:{TP} FP:{FP} Accuracy:{ACC}\")\n",
    "print(f\"Average accuracy: {ACC_SUM / nFold}\")"
   ]
  },
  {
   "cell_type": "code",
   "execution_count": 26,
   "id": "4e4ec2fd-e980-4eec-b6b7-bfdf8b39703d",
   "metadata": {},
   "outputs": [],
   "source": [
    "# all_dataset = stroke_dataset.concatenate(non_stroke_dataset)\n",
    "\n",
    "# Shuffle the combined dataset\n",
    "# all_dataset = all_dataset.shuffle(buffer_size=len(stroke_dataset) + len(non_stroke_dataset))"
   ]
  },
  {
   "cell_type": "code",
   "execution_count": 27,
   "id": "8e417109-76e0-478d-8702-fb8dbc358bf5",
   "metadata": {},
   "outputs": [],
   "source": [
    "# data_len = len(all_dataset)\n",
    "# train_len = int(data_len * 0.8)\n",
    "# test_len = int((data_len - train_len) / 2)\n",
    "# validate_len = data_len - train_len - test_len\n",
    "\n",
    "# train_dataset = all_dataset.take(train_len).batch(32)\n",
    "# test_dataset = (all_dataset.skip(train_len)).take(test_len).batch(32)\n",
    "# validate_dataset = all_dataset.skip(train_len + test_len).batch(32)\n",
    "\n",
    "# print(len(train_dataset))\n",
    "# print(len(test_dataset))\n",
    "# print(len(validate_dataset))\n"
   ]
  },
  {
   "cell_type": "code",
   "execution_count": 96,
   "id": "a2ea3fa2-e645-45a1-a5da-dde74ddc8874",
   "metadata": {},
   "outputs": [],
   "source": [
    "# num_classes = 2 # non-stroke / stroke\n",
    "# batch_size = 128\n",
    "# hidden_units = 256\n",
    "# dropout = 0.45\n",
    "\n",
    "# model = tf.keras.Sequential()\n",
    "# model.add(Dense(hidden_units, input_dim=5))\n",
    "# model.add(Activation('relu'))\n",
    "# model.add(Dropout(dropout))\n",
    "# model.add(Dense(hidden_units))\n",
    "# model.add(Activation('relu'))\n",
    "# model.add(Dropout(dropout))\n",
    "# model.add(Dense(num_classes))\n",
    "\n",
    "# model.compile(\n",
    "#     optimizer='adam',\n",
    "#     loss='binary_crossentropy',\n",
    "#     metrics=['accuracy']\n",
    "# )"
   ]
  },
  {
   "cell_type": "code",
   "execution_count": 97,
   "id": "46d8e1f3-6171-487c-8b12-fb6a5831e253",
   "metadata": {},
   "outputs": [
    {
     "ename": "AttributeError",
     "evalue": "'SVC' object has no attribute 'optimizer'",
     "output_type": "error",
     "traceback": [
      "\u001b[0;31m---------------------------------------------------------------------------\u001b[0m",
      "\u001b[0;31mAttributeError\u001b[0m                            Traceback (most recent call last)",
      "Cell \u001b[0;32mIn[97], line 2\u001b[0m\n\u001b[1;32m      1\u001b[0m \u001b[38;5;28;01mfrom\u001b[39;00m \u001b[38;5;21;01mkeras\u001b[39;00m \u001b[38;5;28;01mimport\u001b[39;00m backend \u001b[38;5;28;01mas\u001b[39;00m K\n\u001b[0;32m----> 2\u001b[0m K\u001b[38;5;241m.\u001b[39mset_value(\u001b[43mmodel\u001b[49m\u001b[38;5;241;43m.\u001b[39;49m\u001b[43moptimizer\u001b[49m\u001b[38;5;241m.\u001b[39mlearning_rate, \u001b[38;5;241m0.0001\u001b[39m)\n\u001b[1;32m      4\u001b[0m model\u001b[38;5;241m.\u001b[39mfit(\n\u001b[1;32m      5\u001b[0m     x\u001b[38;5;241m=\u001b[39mnp\u001b[38;5;241m.\u001b[39marray(all_features),\n\u001b[1;32m      6\u001b[0m     y\u001b[38;5;241m=\u001b[39mnp\u001b[38;5;241m.\u001b[39marray(all_labels),\n\u001b[1;32m      7\u001b[0m     validation_split\u001b[38;5;241m=\u001b[39m\u001b[38;5;241m0.2\u001b[39m,\n\u001b[1;32m      8\u001b[0m     epochs\u001b[38;5;241m=\u001b[39m\u001b[38;5;241m50\u001b[39m\n\u001b[1;32m      9\u001b[0m )\n",
      "\u001b[0;31mAttributeError\u001b[0m: 'SVC' object has no attribute 'optimizer'"
     ]
    }
   ],
   "source": [
    "# from keras import backend as K\n",
    "# K.set_value(model.optimizer.learning_rate, 0.0001)\n",
    "\n",
    "# model.fit(\n",
    "#     x=np.array(all_features),\n",
    "#     y=np.array(all_labels),\n",
    "#     validation_split=0.2,\n",
    "#     epochs=50\n",
    "# )"
   ]
  },
  {
   "cell_type": "code",
   "execution_count": 36,
   "id": "2b45ee4b-4861-45a2-9e69-c9e17c71a4e4",
   "metadata": {},
   "outputs": [
    {
     "ename": "AttributeError",
     "evalue": "'SVC' object has no attribute 'evaluate'",
     "output_type": "error",
     "traceback": [
      "\u001b[0;31m---------------------------------------------------------------------------\u001b[0m",
      "\u001b[0;31mAttributeError\u001b[0m                            Traceback (most recent call last)",
      "Cell \u001b[0;32mIn[36], line 1\u001b[0m\n\u001b[0;32m----> 1\u001b[0m test_loss, test_accuracy \u001b[38;5;241m=\u001b[39m \u001b[43mmodel\u001b[49m\u001b[38;5;241;43m.\u001b[39;49m\u001b[43mevaluate\u001b[49m(test_dataset)\n",
      "\u001b[0;31mAttributeError\u001b[0m: 'SVC' object has no attribute 'evaluate'"
     ]
    }
   ],
   "source": [
    "# test_loss, test_accuracy = model.evaluate(test_dataset)"
   ]
  },
  {
   "cell_type": "code",
   "execution_count": null,
   "id": "518bdc00-a688-4c95-8764-bd2a45c48b34",
   "metadata": {},
   "outputs": [],
   "source": []
  }
 ],
 "metadata": {
  "kernelspec": {
   "display_name": "Python 3 (ipykernel)",
   "language": "python",
   "name": "python3"
  },
  "language_info": {
   "codemirror_mode": {
    "name": "ipython",
    "version": 3
   },
   "file_extension": ".py",
   "mimetype": "text/x-python",
   "name": "python",
   "nbconvert_exporter": "python",
   "pygments_lexer": "ipython3",
   "version": "3.10.12"
  }
 },
 "nbformat": 4,
 "nbformat_minor": 5
}
